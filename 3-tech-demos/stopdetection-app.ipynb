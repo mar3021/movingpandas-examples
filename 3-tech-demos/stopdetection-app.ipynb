{
 "cells": [
  {
   "cell_type": "markdown",
   "id": "045ef98f-53e6-45c0-962b-ae6047fd6955",
   "metadata": {},
   "source": [
    "# Movingpandas Stop Detection Panel App\n",
    "\n",
    "Run: `panel serve .\\stopdetection-app.ipynb --show --autoreload`"
   ]
  },
  {
   "cell_type": "code",
   "execution_count": null,
   "id": "1d40b470-9673-47f6-bc1d-8c6388144b5e",
   "metadata": {},
   "outputs": [],
   "source": [
    "import movingpandas as mpd\n",
    "import os\n",
    "import pandas as pd\n",
    "import panel as pn\n",
    "import warnings\n",
    "\n",
    "from datetime import timedelta\n",
    "from geopandas import read_file\n",
    "warnings.filterwarnings('ignore')"
   ]
  },
  {
   "cell_type": "code",
   "execution_count": null,
   "id": "14f1d56c-56ac-4536-92e4-e27bd2413236",
   "metadata": {},
   "outputs": [],
   "source": [
    "try: \n",
    "    gdf = read_file('../data/geolife_small.gpkg')\n",
    "except:\n",
    "    gdf = read_file(os.path.join(os.getcwd(),'data/geolife_small.gpkg'))\n",
    "    \n",
    "traj_collection = mpd.TrajectoryCollection(gdf, 'trajectory_id', t='t')\n",
    "traj_collection = mpd.MinTimeDeltaGeneralizer(traj_collection).generalize(tolerance=timedelta(seconds=30))"
   ]
  },
  {
   "cell_type": "code",
   "execution_count": null,
   "id": "23ce0e36-d6f7-4288-a68c-aa47b5d69492",
   "metadata": {},
   "outputs": [],
   "source": [
    "def get_traj(traj_id=1, smooth=False):\n",
    "    my_traj = traj_collection.get_trajectory(traj_id)\n",
    "    if smooth:\n",
    "        smoother = mpd.trajectory_smoother.KalmanSmootherCV(my_traj)\n",
    "        my_traj = smoother.smooth(process_noise_std=0.1, measurement_noise_std=10)\n",
    "    return my_traj\n",
    "\n",
    "def detect_stops(my_traj, max_diameter=20, min_duration=1):\n",
    "    detector = mpd.TrajectoryStopDetector(my_traj)\n",
    "    stop_points = detector.get_stop_points(min_duration=timedelta(minutes=min_duration), max_diameter=max_diameter)\n",
    "    return stop_points\n",
    "\n",
    "def make_plot(my_traj, stop_points):\n",
    "    traj_plot = my_traj.hvplot(title='Trajectory {}'.format(my_traj.id), line_width=5.0, tiles='CartoLight', color='slategray', frame_width=600, frame_height=500) \n",
    "    if len(stop_points) == 0:\n",
    "        return traj_plot\n",
    "    map_plot = traj_plot * stop_points.hvplot(geo=True, size='duration_s', color='deeppink', alpha=0.7, hover_cols='all')\n",
    "    stop_points['duration_min'] = round(stop_points['duration_s'] / 60, 1)\n",
    "    table = pd.DataFrame(stop_points).hvplot.table(columns=['start_time', 'duration_min'], sortable=True)\n",
    "    return (map_plot + table).cols(1)\n",
    "\n",
    "def get_info(my_traj, stop_points, smooth=False):\n",
    "    smooth = 'smoothed' if smooth else 'original'\n",
    "    stops = 'stop' if len(stop_points)==1 else 'stops'\n",
    "    md_pane = pn.pane.Markdown(\n",
    "        f\"Trajectory {my_traj.id} ({smooth})\\n\\n\"+\n",
    "        f\"# {len(stop_points)} {stops}\"\n",
    "    )\n",
    "    return md_pane"
   ]
  },
  {
   "cell_type": "code",
   "execution_count": null,
   "id": "ac79de3d-af81-4bcd-bd0a-2e772c66056b",
   "metadata": {},
   "outputs": [],
   "source": [
    "pn.extension(template=\"fast\")\n",
    "pn.state.template.param.update(site=\"MovingPandas\", title=\"Stop Detection App\", accent_base_color=\"#A01346\", header_background=\"#A01346\")\n",
    "pn.config.sizing_mode = \"stretch_width\""
   ]
  },
  {
   "cell_type": "code",
   "execution_count": null,
   "id": "2fe45c7c-611b-44b2-9d04-f5ebc263aed0",
   "metadata": {},
   "outputs": [],
   "source": [
    "traj_select = pn.widgets.Select(name='Trajectory ID', options=[i for i in range(1,6)]).servable(target=\"sidebar\")\n",
    "pn.pane.Markdown(\"## Settings\").servable(target=\"sidebar\")\n",
    "max_diameter_slider = pn.widgets.IntSlider(name='Maximum stop diameter (meters)', start=20, end=200, step=20).servable(target=\"sidebar\")\n",
    "min_duration_slider = pn.widgets.IntSlider(name='Minimum stop duration (minutes)', start=1, end=10, step=1).servable(target=\"sidebar\")\n",
    "pn.pane.Markdown(\"### Preprocessing\").servable(target=\"sidebar\")\n",
    "smooth_checkbox = pn.widgets.Checkbox(name='Smooth trajectory with Kalman filter').servable(target=\"sidebar\")\n",
    "\n",
    "pn.pane.Markdown(\"Powered by:\").servable(target=\"sidebar\")\n",
    "mpd_logo = pn.pane.PNG('https://anitagraser.github.io/movingpandas/assets/img/movingpandas.png', height=100, align='center')\n",
    "pn_logo = pn.pane.PNG('https://panel.holoviz.org/_static/logo_stacked.png', height=100, align='center')\n",
    "logo = pn.Row(mpd_logo, pn_logo).servable(target=\"sidebar\")"
   ]
  },
  {
   "cell_type": "code",
   "execution_count": null,
   "id": "558fae69-326a-40e3-b881-a102c93efd3c",
   "metadata": {},
   "outputs": [],
   "source": [
    "my_traj = pn.bind(get_traj, traj_select, smooth_checkbox)\n",
    "stop_points = pn.bind(detect_stops, my_traj, max_diameter_slider, min_duration_slider)\n",
    "map_plot = pn.bind(make_plot, my_traj, stop_points)\n",
    "info_pane = pn.bind(get_info, my_traj, stop_points, smooth_checkbox)"
   ]
  },
  {
   "cell_type": "code",
   "execution_count": null,
   "id": "0fa54906-f16b-4413-901b-399f9dfee2d2",
   "metadata": {},
   "outputs": [],
   "source": [
    "pn.panel(info_pane).servable(target=\"main\")\n",
    "pn.panel(map_plot).servable(target=\"main\")"
   ]
  },
  {
   "cell_type": "code",
   "execution_count": null,
   "id": "b9e5fea7-c562-4c31-ba8c-ffa5bac048ba",
   "metadata": {},
   "outputs": [],
   "source": []
  }
 ],
 "metadata": {
  "kernelspec": {
   "display_name": "Python 3 (ipykernel)",
   "language": "python",
   "name": "python3"
  },
  "language_info": {
   "codemirror_mode": {
    "name": "ipython",
    "version": 3
   },
   "file_extension": ".py",
   "mimetype": "text/x-python",
   "name": "python",
   "nbconvert_exporter": "python",
   "pygments_lexer": "ipython3",
   "version": "3.7.12"
  }
 },
 "nbformat": 4,
 "nbformat_minor": 5
}
